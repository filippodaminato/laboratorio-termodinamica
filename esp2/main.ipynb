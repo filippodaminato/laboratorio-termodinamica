{
 "cells": [
  {
   "cell_type": "code",
   "execution_count": 1,
   "metadata": {},
   "outputs": [],
   "source": [
    "%matplotlib inline\n",
    "import numpy as np\n",
    "import matplotlib.pyplot as plt\n",
    "import matplotlib.mlab as mlab\n",
    "from scipy import stats\n",
    "import pandas as pd\n",
    "import math\n",
    "\n",
    "import my_lib_santanastasio as my\n",
    "\n",
    "import rotolamento as rt"
   ]
  },
  {
   "cell_type": "code",
   "execution_count": 2,
   "metadata": {
    "scrolled": true
   },
   "outputs": [
    {
     "data": {
      "text/plain": [
       "[<matplotlib.lines.Line2D at 0x7fe756861be0>]"
      ]
     },
     "execution_count": 2,
     "metadata": {},
     "output_type": "execute_result"
    },
    {
     "data": {
      "image/png": "[encoded data removed]",
      "text/plain": [
       "<Figure size 432x288 with 1 Axes>"
      ]
     },
     "metadata": {
      "needs_background": "light"
     },
     "output_type": "display_data"
    }
   ],
   "source": [
    "df = pd.read_csv('misure_2/Angolo25/RawData2.csv')\n",
    "\n",
    "data_time = df['Time (s)'].to_numpy()\n",
    "data_y = df['Gyroscope y (rad/s)'].to_numpy()\n",
    "\n",
    "#Plot dataset\n",
    "plt.plot(data_time[:],data_y[:])"
   ]
  },
  {
   "cell_type": "code",
   "execution_count": 3,
   "metadata": {},
   "outputs": [
    {
     "data": {
      "text/plain": [
       "[[6.224355289, 6.474525777999999],\n",
       " [16.44140536, 16.68156928],\n",
       " [26.57796168, 26.8181202],\n",
       " [45.33051284, 45.5706727],\n",
       " [56.75800231, 56.99816687],\n",
       " [82.26496809, 82.51513134],\n",
       " [106.00072809999999, 106.24088700000001],\n",
       " [122.734669, 122.97482859999998],\n",
       " [148.291861, 148.5320285],\n",
       " [187.70810269999998, 187.9582686],\n",
       " [215.7566253, 216.00679359999998],\n",
       " [249.9594759, 250.19962999999998],\n",
       " [276.8672463, 277.1174126],\n",
       " [294.9593008, 295.20947010000003],\n",
       " [313.1614997, 313.4216734],\n",
       " [340.2595935, 340.509657],\n",
       " [373.0914269, 373.33158510000004],\n",
       " [402.6211986, 402.8713503],\n",
       " [436.04348219999997, 436.2938803],\n",
       " [470.62673839999997, 470.87689800000004]]"
      ]
     },
     "execution_count": 3,
     "metadata": {},
     "output_type": "execute_result"
    }
   ],
   "source": [
    "intervals,indexes = rt.get_intervals(data_time,data_y,5,18)\n",
    "intervals"
   ]
  },
  {
   "cell_type": "code",
   "execution_count": 4,
   "metadata": {
    "scrolled": false
   },
   "outputs": [],
   "source": [
    "# Eseguo il fit sul dataset negli intervalli\n",
    "alpha_values = np.array([rt.m_from_fit(data_time,data_y,x[0],x[1]) for x in intervals ])\n",
    "alpha_fit = alpha_values[:,0] #array valori attesi\n",
    "salpha_fit = alpha_values[:,1] #array incertezze"
   ]
  },
  {
   "cell_type": "code",
   "execution_count": 5,
   "metadata": {
    "scrolled": true
   },
   "outputs": [
    {
     "name": "stdout",
     "output_type": "stream",
     "text": [
      "Aplha= 52.97 ± 0.08 [Rad/s] [0.15%]\n"
     ]
    }
   ],
   "source": [
    "#inferenza prior non vaga\n",
    "#alpha_best = sum(alpha_fit*(1/salpha_fit**2))/sum(1/salpha_fit**2)\n",
    "#salpha_best = 1/np.sqrt(sum(1/salpha_fit**2))\n",
    "\n",
    "#oppure calcolarla con media\n",
    "alpha_best = alpha_fit.mean()\n",
    "salpha_best = np.std(alpha_fit,ddof=1)/np.sqrt(len(alpha_fit))\n",
    "\n",
    "rt.PrintResult(\"Aplha\",alpha_best,salpha_best,2,\"[Rad/s]\" )"
   ]
  },
  {
   "cell_type": "code",
   "execution_count": 12,
   "metadata": {
    "scrolled": false
   },
   "outputs": [
    {
     "data": {
      "text/html": [
       "<div>\n",
       "<style scoped>\n",
       "    .dataframe tbody tr th:only-of-type {\n",
       "        vertical-align: middle;\n",
       "    }\n",
       "\n",
       "    .dataframe tbody tr th {\n",
       "        vertical-align: top;\n",
       "    }\n",
       "\n",
       "    .dataframe thead th {\n",
       "        text-align: right;\n",
       "    }\n",
       "</style>\n",
       "<table border=\"1\" class=\"dataframe\">\n",
       "  <thead>\n",
       "    <tr style=\"text-align: right;\">\n",
       "      <th></th>\n",
       "      <th>Alpha</th>\n",
       "      <th>Sigma Alpha</th>\n",
       "    </tr>\n",
       "  </thead>\n",
       "  <tbody>\n",
       "    <tr>\n",
       "      <th>0</th>\n",
       "      <td>52.88</td>\n",
       "      <td>0.17</td>\n",
       "    </tr>\n",
       "    <tr>\n",
       "      <th>1</th>\n",
       "      <td>52.60</td>\n",
       "      <td>0.24</td>\n",
       "    </tr>\n",
       "    <tr>\n",
       "      <th>2</th>\n",
       "      <td>53.36</td>\n",
       "      <td>0.15</td>\n",
       "    </tr>\n",
       "    <tr>\n",
       "      <th>3</th>\n",
       "      <td>53.43</td>\n",
       "      <td>0.22</td>\n",
       "    </tr>\n",
       "    <tr>\n",
       "      <th>4</th>\n",
       "      <td>53.65</td>\n",
       "      <td>0.22</td>\n",
       "    </tr>\n",
       "    <tr>\n",
       "      <th>5</th>\n",
       "      <td>53.11</td>\n",
       "      <td>0.16</td>\n",
       "    </tr>\n",
       "    <tr>\n",
       "      <th>6</th>\n",
       "      <td>52.91</td>\n",
       "      <td>0.15</td>\n",
       "    </tr>\n",
       "    <tr>\n",
       "      <th>7</th>\n",
       "      <td>53.72</td>\n",
       "      <td>0.23</td>\n",
       "    </tr>\n",
       "    <tr>\n",
       "      <th>8</th>\n",
       "      <td>53.06</td>\n",
       "      <td>0.20</td>\n",
       "    </tr>\n",
       "    <tr>\n",
       "      <th>9</th>\n",
       "      <td>52.82</td>\n",
       "      <td>0.24</td>\n",
       "    </tr>\n",
       "    <tr>\n",
       "      <th>10</th>\n",
       "      <td>53.00</td>\n",
       "      <td>0.21</td>\n",
       "    </tr>\n",
       "    <tr>\n",
       "      <th>11</th>\n",
       "      <td>52.90</td>\n",
       "      <td>0.22</td>\n",
       "    </tr>\n",
       "    <tr>\n",
       "      <th>12</th>\n",
       "      <td>52.44</td>\n",
       "      <td>0.17</td>\n",
       "    </tr>\n",
       "    <tr>\n",
       "      <th>13</th>\n",
       "      <td>52.93</td>\n",
       "      <td>0.18</td>\n",
       "    </tr>\n",
       "    <tr>\n",
       "      <th>14</th>\n",
       "      <td>52.78</td>\n",
       "      <td>0.17</td>\n",
       "    </tr>\n",
       "    <tr>\n",
       "      <th>15</th>\n",
       "      <td>52.89</td>\n",
       "      <td>0.16</td>\n",
       "    </tr>\n",
       "    <tr>\n",
       "      <th>16</th>\n",
       "      <td>52.81</td>\n",
       "      <td>0.19</td>\n",
       "    </tr>\n",
       "    <tr>\n",
       "      <th>17</th>\n",
       "      <td>52.39</td>\n",
       "      <td>0.18</td>\n",
       "    </tr>\n",
       "    <tr>\n",
       "      <th>18</th>\n",
       "      <td>52.59</td>\n",
       "      <td>0.15</td>\n",
       "    </tr>\n",
       "    <tr>\n",
       "      <th>19</th>\n",
       "      <td>53.01</td>\n",
       "      <td>0.15</td>\n",
       "    </tr>\n",
       "  </tbody>\n",
       "</table>\n",
       "</div>"
      ],
      "text/plain": [
       "    Alpha  Sigma Alpha\n",
       "0   52.88         0.17\n",
       "1   52.60         0.24\n",
       "2   53.36         0.15\n",
       "3   53.43         0.22\n",
       "4   53.65         0.22\n",
       "5   53.11         0.16\n",
       "6   52.91         0.15\n",
       "7   53.72         0.23\n",
       "8   53.06         0.20\n",
       "9   52.82         0.24\n",
       "10  53.00         0.21\n",
       "11  52.90         0.22\n",
       "12  52.44         0.17\n",
       "13  52.93         0.18\n",
       "14  52.78         0.17\n",
       "15  52.89         0.16\n",
       "16  52.81         0.19\n",
       "17  52.39         0.18\n",
       "18  52.59         0.15\n",
       "19  53.01         0.15"
      ]
     },
     "execution_count": 12,
     "metadata": {},
     "output_type": "execute_result"
    }
   ],
   "source": [
    "dtab = pd.DataFrame(data={\n",
    "    'Alpha' : alpha_fit.round(2),\n",
    "    'Sigma Alpha' : salpha_fit.round(2),\n",
    "})\n",
    "\n",
    "dtab\n",
    "#print (dtab.to_latex(index=False,formatters={'h': '{:.0E}'.format,'D': '{:.1f}'.format, 'V': '{:0.1E}'.format}))"
   ]
  },
  {
   "cell_type": "code",
   "execution_count": 9,
   "metadata": {
    "scrolled": false
   },
   "outputs": [
    {
     "data": {
      "image/png": "[encoded data removed]",
      "text/plain": [
       "<Figure size 432x288 with 1 Axes>"
      ]
     },
     "metadata": {
      "needs_background": "light"
     },
     "output_type": "display_data"
    },
    {
     "name": "stdout",
     "output_type": "stream",
     "text": [
      "Angolo= 0.275 ± 0.001 [Rad] [0.36%]\n",
      "Angolo= 15.737 ± 0.038 [Deg] [0.24%]\n",
      "\n"
     ]
    },
    {
     "data": {
      "image/png": "[encoded data removed]",
      "text/plain": [
       "<Figure size 432x288 with 1 Axes>"
      ]
     },
     "metadata": {
      "needs_background": "light"
     },
     "output_type": "display_data"
    },
    {
     "name": "stdout",
     "output_type": "stream",
     "text": [
      "Angolo= 0.43 ± 0.001 [Rad] [0.23%]\n",
      "Angolo= 24.661 ± 0.035 [Deg] [0.14%]\n",
      "\n"
     ]
    },
    {
     "data": {
      "image/png": "[encoded data removed]",
      "text/plain": [
       "<Figure size 432x288 with 1 Axes>"
      ]
     },
     "metadata": {
      "needs_background": "light"
     },
     "output_type": "display_data"
    },
    {
     "name": "stdout",
     "output_type": "stream",
     "text": [
      "Angolo= 0.596 ± 0.001 [Rad] [0.17%]\n",
      "Angolo= 34.137 ± 0.051 [Deg] [0.15%]\n",
      "\n"
     ]
    }
   ],
   "source": [
    "# Seconda Parte\n",
    "## Misura Dell'accelerazione di gravità\n",
    "\n",
    "# analizzo il dataset degli angoli e ne ricavo valore atteso e incertezza\n",
    "angle_files = [ ['misure_2/Angolo15/plane.csv', 5,'nome1.png'],['misure_2/Angolo25NEW/plane.csv',3,'nome2.png'], ['misure_2/Angolo35/plane.csv',5,'nome3.png'] ]\n",
    "\n",
    "angles = np.array([ rt.get_angle_from_data(data,nmis,save_fig=True,name=name) for data,nmis,name in angle_files ])"
   ]
  },
  {
   "cell_type": "code",
   "execution_count": null,
   "metadata": {},
   "outputs": [],
   "source": [
    "# analizzo dataset singola misura\n",
    "# ricavo alpha e incertezza tramite fit\n",
    "\n",
    "alphas_files = ['misure_2/Angolo15/Raw Data.csv','misure_2/Angolo35/Raw Data.csv']\n",
    "intervals_2 = [ [20.1,20.55] , [6.6,6.75] ] \n",
    "\n",
    "#tramite questa funzione puoi trovare l'intervallo in cui analizzare il dataset\n",
    "plt = rt.plot_gyro_phyphox(alphas_files[0],intervals_2[0])\n"
   ]
  },
  {
   "cell_type": "code",
   "execution_count": null,
   "metadata": {},
   "outputs": [],
   "source": [
    "rt.fit_from_gyro_phyphox(alphas_files[0],intervals_2[0])"
   ]
  },
  {
   "cell_type": "code",
   "execution_count": null,
   "metadata": {},
   "outputs": [],
   "source": [
    "plt2 = rt.plot_gyro_phyphox(alphas_files[1],intervals_2[1])"
   ]
  },
  {
   "cell_type": "code",
   "execution_count": null,
   "metadata": {},
   "outputs": [],
   "source": [
    "rt.fit_from_gyro_phyphox(alphas_files[1],intervals_2[1])"
   ]
  },
  {
   "cell_type": "markdown",
   "metadata": {},
   "source": [
    "# Punto 7 - 2\n",
    "## fluttuazioni relative nella misura di α per un diverso angolo del piano"
   ]
  },
  {
   "cell_type": "code",
   "execution_count": null,
   "metadata": {},
   "outputs": [],
   "source": [
    "files = [\n",
    "    pd.read_csv('misure_2/Angolo15/Raw Data1.csv'),\n",
    "    pd.read_csv('misure_2/Angolo25/RawData2.csv'),#file delle 10 misure\n",
    "    pd.read_csv('misure_2/Angolo35/Raw Data.csv'),\n",
    "]\n",
    "\n",
    "aplha_angle = [] \n",
    "aplha_mean = []\n",
    "\n",
    "for f in files:\n",
    "    y = f['Gyroscope y (rad/s)'].to_numpy()\n",
    "    x = f['Time (s)'].to_numpy()\n",
    "    \n",
    "    intervals,indexes = rt.get_intervals(x,y,5,18)\n",
    "    aplha_angle.append(np.array([rt.m_from_fit(x,y,n[0],n[1]) for n in intervals]))"
   ]
  },
  {
   "cell_type": "code",
   "execution_count": null,
   "metadata": {},
   "outputs": [],
   "source": [
    "def plotGyro(x,y,gradi):\n",
    "    plt.plot(x,y)\n",
    "    plt.title(\"Velocità angolare in funzione del tempo \\n Angolo {0:d}deg\".format(gradi))\n",
    "    plt.xlabel(\"Tempo [s]\")\n",
    "    plt.ylabel(\"$\\omega$ [rad/s]\")\n",
    "\n",
    "df = files[0]\n",
    "y = df['Gyroscope y (rad/s)'].to_numpy()\n",
    "x = df['Time (s)'].to_numpy()\n",
    "\n",
    "plotGyro(x,y,15)"
   ]
  },
  {
   "cell_type": "code",
   "execution_count": null,
   "metadata": {},
   "outputs": [],
   "source": [
    "def plotSimpleHist(data,gradi):\n",
    "    \n",
    "    binsize = np.std( data, ddof=1 )/2\n",
    "    t_min = data.min()\n",
    "    t_max = data.max()\n",
    "    interval = t_max - t_min\n",
    "    nbins = int(interval / binsize)\n",
    "\n",
    "    counts , bins , patches = plt.hist(data, bins=nbins, color=\"blue\", edgecolor=\"yellow\", alpha=0.75)\n",
    "\n",
    "    plt.xlabel(r'Valore atteso di $\\alpha$ ')\n",
    "    plt.ylabel('Entries')\n",
    "    plt.title(r'Distribuzione di aplha con $\\theta$ = {0:d}deg'.format(gradi))\n",
    "\n",
    "    \n",
    "data = np.array(aplha_angle[0][:,0])\n",
    "plotSimpleHist(data,15)"
   ]
  },
  {
   "cell_type": "code",
   "execution_count": null,
   "metadata": {},
   "outputs": [],
   "source": [
    "for x in aplha_angle:\n",
    "    val = x[:,0]\n",
    "    res = [\n",
    "        val.mean(),\n",
    "        np.std(val,ddof=1)/np.sqrt(len(val))\n",
    "    ]\n",
    "    \n",
    "    aplha_mean.append(res)\n",
    "    \n",
    "print(aplha_mean[0])\n",
    "print(aplha_mean[1])\n",
    "print(aplha_mean[2])"
   ]
  },
  {
   "cell_type": "markdown",
   "metadata": {},
   "source": [
    "# Punto 7 - Studio sulla riproducibilità della misura di α"
   ]
  },
  {
   "cell_type": "code",
   "execution_count": null,
   "metadata": {},
   "outputs": [],
   "source": [
    "root_folder = 'misure_2/Angolo25NEW/'\n",
    "file_set = [\n",
    "    #file name - trigger_bottom - trigger_top\n",
    "    ['data_25deg_no_riposizionamento.csv', 5, 15],\n",
    "    ['data_25deg_attrito.csv', 5, 15], \n",
    "    ['data_25deg_deviazione.csv', 5, 15], \n",
    "    ['data_25deg_diversa_altezza.csv', 5, 15], \n",
    "    ['data_25deg_diversa_temperatura.csv', 5, 15], \n",
    "    \n",
    "]#tutti i dataset\n",
    "\n",
    "\n",
    "alpha_7 = []\n",
    "\n",
    "for file in file_set:\n",
    "    \n",
    "    df = pd.read_csv(root_folder+file[0])\n",
    "\n",
    "    time = df['Time (s)'].to_numpy()\n",
    "    y = df['Gyroscope y (rad/s)'].to_numpy()\n",
    "\n",
    "    intervals,indexes = rt.get_intervals(time,y,file[1],file[2])\n",
    "    \n",
    "    alpha_m = np.array([rt.m_from_fit(time,y,n[0],n[1]) for n in intervals])\n",
    "    # (aplha, saplha)\n",
    "    \n",
    "    m = alpha_m[:,0].mean()\n",
    "    sm = np.std(alpha_m[:,0],ddof=1)/np.sqrt(len(intervals))\n",
    "    \n",
    "    alpha_7.append([m,sm])\n",
    "        \n",
    "alpha_7 = np.array(alpha_7)\n",
    "salpha_7 = (max(alpha_7[:,0])-min(alpha_7[:,0]))/np.sqrt(12)\n",
    "                       \n",
    "print(salpha_7)\n"
   ]
  },
  {
   "cell_type": "markdown",
   "metadata": {},
   "source": [
    "# Parte 2: Misura dell’accelerazione di gravità"
   ]
  },
  {
   "cell_type": "code",
   "execution_count": null,
   "metadata": {},
   "outputs": [],
   "source": [
    "aplha_fit = [ rt.fit_from_gyro_phyphox(alphas_files[x],intervals_2[x],plot=False)  for x in range(0,2)]\n",
    "\n",
    "aplha_angles_dataset = np.array([ \n",
    "   # [ angle, sigma-angle, aplha, sigma-aplha]\n",
    "   [ angles[0][0], angles[0][1], aplha_fit[0][0], aplha_fit[0][1] ],#angolo 15 deg\n",
    "   [ angles[1][0], angles[1][1], alpha_best, salpha_best ],#angolo 25 deg\n",
    "   [ angles[2][0], angles[2][1], aplha_fit[1][0], aplha_fit[1][1] ],#angolo 35 deg\n",
    "])"
   ]
  },
  {
   "cell_type": "code",
   "execution_count": null,
   "metadata": {},
   "outputs": [],
   "source": [
    "x = aplha_angles_dataset[:,0] #angle\n",
    "sx = aplha_angles_dataset[:,1] #sangle\n",
    "y = aplha_angles_dataset[:,2] #alpha\n",
    "sy = aplha_angles_dataset[:,3] #saplha\n",
    "\n",
    "dtab = pd.DataFrame(data={\n",
    "    'Angle' : x,\n",
    "    'Sigma Angle' : sx,\n",
    "    'Alpha' : y,\n",
    "    'Sigma Alpha' : 2.2700088598491486,\n",
    "    'SAplha/Alpha' : [ sy[x]/y[x] for x in range(0,3)]\n",
    "})\n",
    "\n",
    "dtab"
   ]
  },
  {
   "cell_type": "code",
   "execution_count": null,
   "metadata": {},
   "outputs": [],
   "source": [
    "rt.easy_linfit(x,sx,y,sy,\"aplha-fit.png\")"
   ]
  },
  {
   "cell_type": "code",
   "execution_count": null,
   "metadata": {},
   "outputs": [],
   "source": [
    "x = np.sin(x)\n",
    "sx = np.cos(x)*sx\n",
    "\n",
    "plt.plot(x,y)\n",
    "plt.errorbar(x, y, xerr=sx,yerr=sy,ecolor='b', fmt='-o')\n",
    "plt.plot(x,y,'ro')\n",
    "\n",
    "plt.grid(linestyle='-', linewidth=1)\n",
    "\n",
    "plt.xlabel(\"sin($\\dot{\\Theta}$) [rad]\")\n",
    "plt.ylabel(r\"$\\dot{\\alpha}$ [rad/s]\")\n",
    "plt.title(r'Grafico di $\\alpha$ in funzione di $\\Theta$ ')\n",
    "\n",
    "plt.show()"
   ]
  },
  {
   "cell_type": "code",
   "execution_count": null,
   "metadata": {},
   "outputs": [],
   "source": [
    "res = rt.easy_linfit(x,sx,y,sy)\n",
    "#rt.easy_linfit(x,sx,y,sy,\"nome-immagine.png\")"
   ]
  },
  {
   "cell_type": "code",
   "execution_count": null,
   "metadata": {},
   "outputs": [],
   "source": [
    "print(np.array(res))\n",
    "m = res[0][0]\n",
    "sm = res[0][1]"
   ]
  },
  {
   "cell_type": "markdown",
   "metadata": {},
   "source": [
    "# Calcolo della gravità\n",
    "## Da punto 4 a 6\n"
   ]
  },
  {
   "cell_type": "code",
   "execution_count": null,
   "metadata": {},
   "outputs": [],
   "source": [
    "# telefono/sensore rettangolare\n",
    "tel = {\n",
    "    'I_cm': None,\n",
    "    'sI_cm':None,\n",
    "    'm' : 0.150,#kg\n",
    "    'sm' : 0.025/np.sqrt(12),\n",
    "    'l_a' : 0.08,#m\n",
    "    'l_b' : 0.015,#m\n",
    "    'sl' : 0.001/np.sqrt(12),\n",
    "}\n",
    "\n",
    "dev_m = (tel['l_a']**2+tel['l_b']**2)/12\n",
    "dev_a = tel['l_a']*tel['m']/6\n",
    "dev_b = tel['l_b']*tel['m']/6\n",
    "\n",
    "tel['I_cm'] = (tel['m']*(tel['l_a']**2 + tel['l_b']**2))/12\n",
    "tel['sI_cm'] = np.sqrt( (dev_m*tel['sm'])**2 + (dev_a*tel['sl'])**2 + (dev_b*tel['sl'])**2 )\n",
    "\n",
    "\n",
    "\n",
    "# cilindro che rotola\n",
    "rot = {\n",
    "    'I_cm' : None,\n",
    "    'sI_cm': None,\n",
    "    'm' : 0.163,#kg\n",
    "    'sm' : 0.025/np.sqrt(12),\n",
    "    'r_ext' : 0.105/2,#m\n",
    "    'r_int' : 0.08/2,#m\n",
    "    'sr' : 0.001/np.sqrt(12),\n",
    "}\n",
    "\n",
    "dev_m = (rot['r_ext']**2+rot['r_int']**2)/2\n",
    "dev_a = rot['r_ext']*rot['m']\n",
    "dev_b = rot['r_int']*rot['m']\n",
    "\n",
    "rot['I_cm'] = (rot['m']*(rot['r_ext']**2 + rot['r_int']**2))/2\n",
    "rot['sI_cm'] = np.sqrt( (dev_m*rot['sm'])**2 + (dev_a*rot['sr'])**2 + (dev_b*rot['sr'])**2 )\n",
    "\n",
    "\n",
    "#tot\n",
    "Icm_tot = tel['I_cm'] + rot['I_cm']\n",
    "sIcm_tot = np.sqrt(rot['sI_cm']**2+tel['sI_cm']**2)\n",
    "\n",
    "rt.PrintResult(\"Icm: \", Icm_tot,sIcm_tot,5,\"[kg*m^2]\")"
   ]
  },
  {
   "cell_type": "code",
   "execution_count": null,
   "metadata": {},
   "outputs": [],
   "source": [
    "print(m)\n",
    "print(sm)"
   ]
  },
  {
   "cell_type": "code",
   "execution_count": null,
   "metadata": {},
   "outputs": [],
   "source": [
    "# gravità\n",
    "\n",
    "\n",
    "R = rot['r_ext']\n",
    "sR = rot['sr']\n",
    "M = rot['m'] + tel['m']\n",
    "sM = rot['sm']\n",
    "\n",
    "dev_m = Icm_tot/(M*R) + R\n",
    "dev_I = m/(M*R)\n",
    "dev_M = (m*Icm_tot)/(R*M**2)\n",
    "dev_R = (-m*Icm_tot)/(R*M**2) + m\n",
    "\n",
    "g = m*(Icm_tot+M*R**2)/(M*R)\n",
    "sg = np.sqrt( (dev_m*sm)**2 + (dev_I*sIcm_tot)**2 + (dev_M*sM)**2 + (dev_R*sR)**2 )\n",
    "\n",
    "\n",
    "rt.PrintResult(\"Gravità: \",g,sg,4,\"[N/kg]\")"
   ]
  },
  {
   "cell_type": "code",
   "execution_count": null,
   "metadata": {},
   "outputs": [],
   "source": [
    "s = (9.805-g) / sg\n",
    "s"
   ]
  },
  {
   "cell_type": "code",
   "execution_count": null,
   "metadata": {},
   "outputs": [],
   "source": []
  },
  {
   "cell_type": "code",
   "execution_count": null,
   "metadata": {},
   "outputs": [],
   "source": []
  },
  {
   "cell_type": "code",
   "execution_count": null,
   "metadata": {},
   "outputs": [],
   "source": []
  },
  {
   "cell_type": "code",
   "execution_count": null,
   "metadata": {},
   "outputs": [],
   "source": []
  },
  {
   "cell_type": "code",
   "execution_count": null,
   "metadata": {},
   "outputs": [],
   "source": []
  }
 ],
 "metadata": {
  "kernelspec": {
   "display_name": "Python 3",
   "language": "python",
   "name": "python3"
  },
  "language_info": {
   "codemirror_mode": {
    "name": "ipython",
    "version": 3
   },
   "file_extension": ".py",
   "mimetype": "text/x-python",
   "name": "python",
   "nbconvert_exporter": "python",
   "pygments_lexer": "ipython3",
   "version": "3.8.5"
  }
 },
 "nbformat": 4,
 "nbformat_minor": 4
}
